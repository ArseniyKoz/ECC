{
  "nbformat": 4,
  "nbformat_minor": 0,
  "metadata": {
    "colab": {
      "provenance": [],
      "authorship_tag": "ABX9TyOscstGzBI8jnO8OqqI0AbG",
      "include_colab_link": true
    },
    "kernelspec": {
      "name": "python3",
      "display_name": "Python 3"
    },
    "language_info": {
      "name": "python"
    }
  },
  "cells": [
    {
      "cell_type": "markdown",
      "metadata": {
        "id": "view-in-github",
        "colab_type": "text"
      },
      "source": [
        "<a href=\"https://colab.research.google.com/github/ArseniyKoz/ECC/blob/main/task/ECC_task.ipynb\" target=\"_parent\"><img src=\"https://colab.research.google.com/assets/colab-badge.svg\" alt=\"Open In Colab\"/></a>"
      ]
    },
    {
      "cell_type": "code",
      "execution_count": null,
      "metadata": {
        "id": "PrmDVpsZh51M"
      },
      "outputs": [],
      "source": [
        "### МОДУЛИ ###\n",
        "# !pip install tinyec\n",
        "# !pip install pycryptodome\n"
      ]
    },
    {
      "cell_type": "code",
      "source": [
        "from tinyec import registry\n",
        "from Crypto.Cipher import AES\n",
        "import hashlib, secrets"
      ],
      "metadata": {
        "id": "m4XRN9YMh_Kl"
      },
      "execution_count": null,
      "outputs": []
    },
    {
      "cell_type": "code",
      "source": [
        "### хеш функция для создания из точки кривой ключ для шифра ###\n",
        "def ecc_point_to_256_bit_key(point):\n",
        "    sha = hashlib.sha256(int.to_bytes(point.x, 32, 'big'))\n",
        "    sha.update(int.to_bytes(point.y, 32, 'big'))\n",
        "    return sha.digest()\n",
        "\n",
        "### Описание данной функции приводится в задании, в котором оно используется\n",
        "def encrypt_ECC(msg, key):\n",
        "    secretKey = ecc_point_to_256_bit_key(key)\n",
        "    aesCipher = AES.new(secretKey, AES.MODE_GCM)\n",
        "    ciphertext, authTag = aesCipher.encrypt_and_digest(msg.encode(\"utf-8\"))\n",
        "    return (ciphertext, aesCipher.nonce, authTag)\n",
        "\n",
        "### Описание данной функции приводится в задании, в котором оно используется\n",
        "def decrypt_ECC(encryptedMsg, key):\n",
        "    (ciphertext, nonce, authTag) = encryptedMsg\n",
        "\n",
        "    secretKey = ecc_point_to_256_bit_key(key)\n",
        "    aesCipher = AES.new(secretKey, AES.MODE_GCM, nonce)\n",
        "    plaintext = aesCipher.decrypt_and_verify(ciphertext, authTag)\n",
        "    return plaintext.decode('utf-8')"
      ],
      "metadata": {
        "id": "fZznmHRciD-V"
      },
      "execution_count": null,
      "outputs": []
    },
    {
      "cell_type": "code",
      "source": [
        "\"\"\" TASK 1\"\"\"\n",
        "# Вам нужно правильно заполнить поля для реализации\n",
        "# Алгоритма Диффи-Хеллмана на эллиптических кривых,\n",
        "# основываясь на материале выступления\n",
        "def ECDH():\n",
        "    ### ОБЩИЕ ПАРАМЕТРЫ ###\n",
        "    # Выбор одной из кривых:\n",
        "    # secp192r1\n",
        "    # brainpoolP256r1\n",
        "    # brainpoolP160r1\n",
        "    # brainpoolP192r1\n",
        "    curve_name =\n",
        "    curve = registry.get_curve(curve_name)\n",
        "\n",
        "    # Генераторная точка группы\n",
        "    G = curve.g\n",
        "    # Порядок группы (количество уникальных точек в группе)\n",
        "    n = curve.field.n\n",
        "    print('\\tОбщие данные')\n",
        "    print('Генераторная точка', G)\n",
        "    print('Порядок группы', n)\n",
        "\n",
        "    ### ПЕРВЫЙ ПОЛЬЗОВАТЕЛЬ (ALICE) ###\n",
        "    # секретный ключ пользователя\n",
        "    d_1 = secrets.randbelow(curve.field.n)\n",
        "    # открытый ключ пользователя\n",
        "    H_1 =\n",
        "    print('\\tДанные первого пользователя')\n",
        "    print('Приватный ключ: ', d_1)\n",
        "    print('Открытый ключ', H_1)\n",
        "\n",
        "    ### ВТОРОЙ ПОЛЬЗОВАТЕЛЬ (BOB) ###\n",
        "    # секретный ключ пользователя\n",
        "    d_2 = secrets.randbelow(curve.field.n)\n",
        "    # открытый ключ пользователя\n",
        "    H_2 =\n",
        "    print('\\tДанные второго пользователя')\n",
        "    print('Приватный ключ: ', d_2)\n",
        "    print('Открытый ключ', H_2)\n",
        "\n",
        "    ### ВЫЧИСЛЕНИЕ ОБЩЕГО СЕКРЕТНОГО КЛЮЧА ###\n",
        "    # нужно ввести формулу, с помощью которой первый пользователь получает общий ключ,\n",
        "    # не зная секретного ключа второго пользователя\n",
        "    S_1 =\n",
        "    # аналогично для второго пользователя\n",
        "    S_2 =\n",
        "    print('\\tОбщий секретный ключ')\n",
        "    print('Полученный первым пользователем: ', S_1)\n",
        "    print('Полученный первым пользователем: ', S_2)\n",
        "    assert S_1 == S_2\n",
        "\n",
        "    return S_1"
      ],
      "metadata": {
        "id": "CRwdRl2fiGk-"
      },
      "execution_count": null,
      "outputs": []
    },
    {
      "cell_type": "code",
      "source": [
        "\"\"\"\" TASK 2 \"\"\"\n",
        "# Воспользовавшись предыдущим заданием и функциями encrypt_ECC, decrypt_ECC,\n",
        "# зашифруйте и расшифруйте своё сообщение\n",
        "# !ALARM! если вы не уверены в правильности выполнения первого задания, то просто проконсультируйтесь, лол\n",
        "# !ALARM! в этом задании не используйте кривую secp521r1\n",
        "def encryptAndDecrypt():\n",
        "    ### Функции encrypt_ECC, decrypt_ECC ###\n",
        "    # encrypt_ECC(строка, секретный ключ), возвращает зашифрованное сообщение\n",
        "    # если вы захотите вывести зашифрованное сообщение, то воспользуйтесь print(f\"Зашифрованное сообщение: {encryptMsg[0]}\"),\n",
        "    # где encryptMsg - результат функции encrypt_ECC\n",
        "    # decrypt_ECC(объект полученный от функции encrypt_ECC, секретный ключ), возвращает исходное значение (если все правильно)\n",
        "    msg = ''\n",
        "    encryptMsg =\n",
        "    print(f\"Зашифрованное сообщение: {encryptMsg[0]}\")\n",
        "    ans =\n",
        "    print(f\"Расшифрованное сообщение: {ans}\")"
      ],
      "metadata": {
        "id": "N6fOgLEPiPe5"
      },
      "execution_count": null,
      "outputs": []
    },
    {
      "cell_type": "code",
      "source": [
        "S = ECDH()"
      ],
      "metadata": {
        "id": "aqZacULXluIO"
      },
      "execution_count": null,
      "outputs": []
    },
    {
      "cell_type": "code",
      "source": [
        "encryptAndDecrypt()"
      ],
      "metadata": {
        "id": "QyaeiYuslviv"
      },
      "execution_count": null,
      "outputs": []
    }
  ]
}